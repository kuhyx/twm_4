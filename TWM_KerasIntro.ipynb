{
 "cells": [
  {
   "cell_type": "code",
   "execution_count": 1,
   "metadata": {
    "id": "c9tFwxET8YY5"
   },
   "outputs": [],
   "source": [
    "%matplotlib inline\n",
    "#gjfklg"
   ]
  },
  {
   "cell_type": "markdown",
   "metadata": {
    "id": "M9PoJm628YY_"
   },
   "source": [
    "# Introduction to Deep Learning with Keras and TensorFlow\n",
    "\n",
    "Based on excelent work by **[Daniel Moser (UT Southwestern Medical Center)](https://github.com/AviatorMoser/keras-mnist-tutorial)**, Resources: **[Xavier Snelgrove](https://github.com/wxs/keras-mnist-tutorial), [Yash Katariya](https://github.com/yashk2810/MNIST-Keras)**"
   ]
  },
  {
   "cell_type": "markdown",
   "metadata": {
    "id": "lh0dsQg08YZA"
   },
   "source": [
    "To help you understand the fundamentals of deep learning, this demo will walk through the basic steps of building two toy models for classifying handwritten numbers with accuracies surpassing 95%. The first model will be a basic fully-connected neural network, and the second model will be a deeper network that introduces the concepts of convolution and pooling."
   ]
  },
  {
   "cell_type": "markdown",
   "metadata": {
    "id": "LJVXVJ6_8YZB"
   },
   "source": [
    "## The Task for the AI\n",
    "\n",
    "Our goal is to construct and train an artificial neural network on thousands of images of handwritten digits so that it may successfully identify others when presented. The data that will be incorporated is the MNIST database which contains 60,000 images for training and 10,000 test images. We will use the Keras Python API with TensorFlow as the backend."
   ]
  },
  {
   "cell_type": "markdown",
   "metadata": {
    "id": "3eVu55U98YZC"
   },
   "source": [
    "<img src=\"https://github.com/wut-mpg/keras-mnist-tutorial/raw/master/mnist.png\" >"
   ]
  },
  {
   "cell_type": "markdown",
   "metadata": {
    "id": "Ms_a4hzY8YZC"
   },
   "source": [
    "## Prerequisite Python Modules\n",
    "\n",
    "First, some software needs to be loaded into the Python environment."
   ]
  },
  {
   "cell_type": "code",
   "execution_count": 1,
   "metadata": {
    "colab": {
     "base_uri": "https://localhost:8080/"
    },
    "id": "D7Bns2Lo8YZD",
    "outputId": "be00cd49-743b-4aec-97f5-18df00e73a98"
   },
   "outputs": [
    {
     "ename": "ModuleNotFoundError",
     "evalue": "No module named 'tensorflow'",
     "output_type": "error",
     "traceback": [
      "\u001b[0;31m---------------------------------------------------------------------------\u001b[0m",
      "\u001b[0;31mModuleNotFoundError\u001b[0m                       Traceback (most recent call last)",
      "Cell \u001b[0;32mIn[1], line 5\u001b[0m\n\u001b[1;32m      2\u001b[0m \u001b[38;5;28;01mimport\u001b[39;00m \u001b[38;5;21;01mmatplotlib\u001b[39;00m\u001b[38;5;21;01m.\u001b[39;00m\u001b[38;5;21;01mpyplot\u001b[39;00m \u001b[38;5;28;01mas\u001b[39;00m \u001b[38;5;21;01mplt\u001b[39;00m      \u001b[38;5;66;03m# MATLAB like plotting routines\u001b[39;00m\n\u001b[1;32m      3\u001b[0m \u001b[38;5;28;01mimport\u001b[39;00m \u001b[38;5;21;01mrandom\u001b[39;00m                        \u001b[38;5;66;03m# for generating random numbers\u001b[39;00m\n\u001b[0;32m----> 5\u001b[0m \u001b[38;5;28;01mimport\u001b[39;00m \u001b[38;5;21;01mtensorflow\u001b[39;00m \u001b[38;5;28;01mas\u001b[39;00m \u001b[38;5;21;01mtf\u001b[39;00m\n\u001b[1;32m      6\u001b[0m \u001b[38;5;28;01mfrom\u001b[39;00m \u001b[38;5;21;01mkeras\u001b[39;00m\u001b[38;5;21;01m.\u001b[39;00m\u001b[38;5;21;01mdatasets\u001b[39;00m \u001b[38;5;28;01mimport\u001b[39;00m mnist     \u001b[38;5;66;03m# MNIST dataset is included in Keras%\u001b[39;00m\n\u001b[1;32m      7\u001b[0m \u001b[38;5;28;01mfrom\u001b[39;00m \u001b[38;5;21;01mkeras\u001b[39;00m\u001b[38;5;21;01m.\u001b[39;00m\u001b[38;5;21;01mmodels\u001b[39;00m \u001b[38;5;28;01mimport\u001b[39;00m Sequential  \u001b[38;5;66;03m# Model type to be used\u001b[39;00m\n",
      "\u001b[0;31mModuleNotFoundError\u001b[0m: No module named 'tensorflow'"
     ]
    }
   ],
   "source": [
    "import numpy as np                   # advanced math library\n",
    "import matplotlib.pyplot as plt      # MATLAB like plotting routines\n",
    "import random                        # for generating random numbers\n",
    "\n",
    "import tensorflow as tf\n",
    "from keras.datasets import mnist     # MNIST dataset is included in Keras%\n",
    "from keras.models import Sequential  # Model type to be used\n",
    "\n",
    "from keras.layers import Dense, Dropout, Activation # Types of layers to be used in our model\n",
    "from keras.utils import to_categorical                         # NumPy related tools\n",
    "\n",
    "from keras import optimizers\n",
    "\n",
    "\n",
    "from sklearn.metrics import confusion_matrix\n",
    "import itertools\n",
    "\n",
    "print(tf.__version__)"
   ]
  },
  {
   "cell_type": "markdown",
   "metadata": {
    "id": "QygDQ7Ch8YZG"
   },
   "source": [
    "## Loading Training Data\n",
    "\n",
    "The MNIST dataset is conveniently bundled within Keras, and we can easily analyze some of its features in Python."
   ]
  },
  {
   "cell_type": "code",
   "execution_count": null,
   "metadata": {
    "colab": {
     "base_uri": "https://localhost:8080/"
    },
    "id": "SdZZph6i8YZG",
    "outputId": "0bccfb2e-0ac0-4e45-8a2b-879ee5c6860b"
   },
   "outputs": [],
   "source": [
    "# The MNIST data is split between 60,000 28 x 28 pixel training images and 10,000 28 x 28 pixel images\n",
    "(X_train, y_train), (X_test, y_test) = mnist.load_data()\n",
    "\n",
    "print(\"X_train shape\", X_train.shape)\n",
    "print(\"y_train shape\", y_train.shape)\n",
    "print(\"X_test shape\", X_test.shape)\n",
    "print(\"y_test shape\", y_test.shape)"
   ]
  },
  {
   "cell_type": "markdown",
   "metadata": {
    "id": "9v5sjP468YZJ"
   },
   "source": [
    "Using matplotlib, we can plot some sample images from the training set directly into this Jupyter Notebook. We can egzamine the interclass variability - how many different ways of writing the same digit there are!"
   ]
  },
  {
   "cell_type": "code",
   "execution_count": null,
   "metadata": {
    "colab": {
     "base_uri": "https://localhost:8080/",
     "height": 811
    },
    "id": "Ov1T_A6X8YZJ",
    "outputId": "5527cbf1-7ab1-4035-ef38-1fbaad1a425c"
   },
   "outputs": [],
   "source": [
    "plt.rcParams['figure.figsize'] = (9,9) # Make the figures a bit bigger\n",
    "\n",
    "def visualize_classes(X, y):\n",
    "  for i in range(0, 10):\n",
    "    img_batch = X[y == i][0:10]\n",
    "    img_batch = np.reshape(img_batch, (img_batch.shape[0]*img_batch.shape[1], img_batch.shape[2]))\n",
    "    if i > 0:\n",
    "      img = np.concatenate([img, img_batch], axis = 1)\n",
    "    else:\n",
    "      img = img_batch\n",
    "  plt.figure(figsize=(10,20))\n",
    "  plt.axis('off')\n",
    "  plt.imshow(img, cmap='gray')\n",
    "\n",
    "\n",
    "visualize_classes(X_train, y_train)\n"
   ]
  },
  {
   "cell_type": "markdown",
   "metadata": {
    "id": "uGjX5ZD68YZM"
   },
   "source": [
    "Let's examine a single digit a little closer, and print out the array representing the last digit."
   ]
  },
  {
   "cell_type": "code",
   "execution_count": null,
   "metadata": {
    "colab": {
     "base_uri": "https://localhost:8080/"
    },
    "id": "wW_rrJfj8YZN",
    "outputId": "58260b7d-47fd-4fcd-dd49-92d73823b9d5"
   },
   "outputs": [],
   "source": [
    "# just a little function for pretty printing a matrix\n",
    "def matprint(mat, fmt=\"g\"):\n",
    "    col_maxes = [max([len((\"{:\"+fmt+\"}\").format(x)) for x in col]) for col in mat.T]\n",
    "    for x in mat:\n",
    "        for i, y in enumerate(x):\n",
    "            print((\"{:\"+str(col_maxes[i])+fmt+\"}\").format(y), end=\"  \")\n",
    "        print(\"\")\n",
    "\n",
    "# now print!\n",
    "matprint(X_train[-1])"
   ]
  },
  {
   "cell_type": "code",
   "execution_count": null,
   "metadata": {
    "id": "s3koPAgMdzoG"
   },
   "outputs": [],
   "source": []
  },
  {
   "cell_type": "markdown",
   "metadata": {
    "id": "vQPPE2Bq8YZP"
   },
   "source": [
    "Each pixel is an 8-bit integer from 0-255. 0 is full black, while 255 is full white. This what we call a single-channel pixel. It's called monochrome.\n",
    "\n",
    "*Fun-fact! Your computer screen has three channels for each pixel: red, green, blue. Each of these channels also likely takes an 8-bit integer. 3 channels -- 24 bits total -- 16,777,216 possible colors!*"
   ]
  },
  {
   "cell_type": "markdown",
   "metadata": {
    "id": "z09IKy7PR9M9"
   },
   "source": [
    "## More input data nalysis\n",
    "\n",
    "\n",
    "Visualizing high-dimensional data by projecting it into a low-dimensional space is a classic operation that anyone working with data has probably done at least once in their life. There are a huge variety of methods for reducing dimensionality, but one very popular method is t-SNE, a method proposed by Geoffry Hinton’s group back in 2008. [ _more..._ ](https://mlexplained.com/2018/09/14/paper-dissected-visualizing-data-using-t-sne-explained/)\n",
    "\n",
    "Code by [Zaid Alyafeai](https://github.com/zaidalyafeai/Notebooks) [MIT license]"
   ]
  },
  {
   "cell_type": "code",
   "execution_count": null,
   "metadata": {
    "id": "59m4-pjCSBgM"
   },
   "outputs": [],
   "source": [
    "from sklearn.manifold import TSNE\n",
    "import matplotlib.patheffects as PathEffects\n",
    "import seaborn as sns\n",
    "\n",
    "RS=19238\n",
    "\n",
    "class_names = [ str(clid) for clid in range(10) ]\n",
    "\n",
    "def scatter(x, colors):\n",
    "    # We choose a color palette with seaborn.\n",
    "    palette = np.array(sns.color_palette(\"hls\", 10))\n",
    "\n",
    "    # We create a scatter plot.\n",
    "    f = plt.figure(figsize=(8, 8))\n",
    "    ax = plt.subplot(aspect='equal')\n",
    "    sc = ax.scatter(x[:,0], x[:,1], lw=0, s=40,\n",
    "                    c=palette[colors.astype(\"int\")])\n",
    "    plt.xlim(-25, 25)\n",
    "    plt.ylim(-25, 25)\n",
    "    ax.axis('off')\n",
    "    ax.axis('tight')\n",
    "\n",
    "    # We add the labels for each digit.\n",
    "    txts = []\n",
    "    for i in range(10):\n",
    "        # Position of each label.\n",
    "        xtext, ytext = np.median(x[colors == i, :], axis=0)\n",
    "        txt = ax.text(xtext, ytext, class_names[i], fontsize=15)\n",
    "        txt.set_path_effects([\n",
    "            PathEffects.Stroke(linewidth=5, foreground=\"w\"),\n",
    "            PathEffects.Normal()])\n",
    "        txts.append(txt)\n",
    "\n",
    "def plot_tsne(X, y):\n",
    "  print('calculating tsne ...')\n",
    "  proj = TSNE(random_state=RS, learning_rate=200, init='random').fit_transform(X)\n",
    "  scatter(proj, y)"
   ]
  },
  {
   "cell_type": "code",
   "execution_count": null,
   "metadata": {
    "colab": {
     "base_uri": "https://localhost:8080/",
     "height": 670
    },
    "id": "1_gbsFQ3Srw_",
    "outputId": "175c8344-ebf4-4900-b702-bbf9072af429"
   },
   "outputs": [],
   "source": [
    "X = np.reshape(X_train, (X_train.shape[0], 28 * 28))[0:2000]\n",
    "y = y_train[0:2000]\n",
    "plot_tsne(X, y)"
   ]
  },
  {
   "cell_type": "markdown",
   "metadata": {
    "id": "UFWr5nQo8YZQ"
   },
   "source": [
    "## Formatting the input data layer\n",
    "\n",
    "Instead of a 28 x 28 matrix, we build our network to accept a 784-length vector.\n",
    "\n",
    "Each image needs to be then reshaped (or flattened) into a vector. We'll also normalize the inputs to be in the range [0-1] rather than [0-255]. Normalizing inputs is generally recommended, so that any additional dimensions (for other network architectures) are of the same scale."
   ]
  },
  {
   "cell_type": "markdown",
   "metadata": {
    "id": "B-b0XGKd8YZQ"
   },
   "source": [
    "<img src='https://github.com/wut-mpg/keras-mnist-tutorial/raw/master/flatten.png' >"
   ]
  },
  {
   "cell_type": "code",
   "execution_count": null,
   "metadata": {
    "colab": {
     "base_uri": "https://localhost:8080/"
    },
    "id": "0ge5s-pT8YZR",
    "outputId": "5695385b-3845-4ced-ab70-2d085a0417e2"
   },
   "outputs": [],
   "source": [
    "X_train = X_train.reshape(60000, 784) # reshape 60,000 28 x 28 matrices into 60,000 784-length vectors.\n",
    "X_test = X_test.reshape(10000, 784)   # reshape 10,000 28 x 28 matrices into 10,000 784-length vectors.\n",
    "\n",
    "X_train = X_train.astype('float32')   # change integers to 32-bit floating point numbers\n",
    "X_test = X_test.astype('float32')\n",
    "\n",
    "X_train /= 255                        # normalize each value for each pixel for the entire vector for each input\n",
    "X_test /= 255\n",
    "\n",
    "print(\"Training matrix shape\", X_train.shape)\n",
    "print(\"Testing matrix shape\", X_test.shape)"
   ]
  },
  {
   "cell_type": "markdown",
   "metadata": {
    "id": "sS8jHU6V8YZT"
   },
   "source": [
    "We then modify our classes (unique digits) to be in the one-hot (categorical) format, i.e.\n",
    "\n",
    "```\n",
    "0 -> [1, 0, 0, 0, 0, 0, 0, 0, 0]\n",
    "1 -> [0, 1, 0, 0, 0, 0, 0, 0, 0]\n",
    "2 -> [0, 0, 1, 0, 0, 0, 0, 0, 0]\n",
    "etc.\n",
    "```\n",
    "\n",
    "If the final output of our network is very close to one of these classes, then it is most likely that class. For example, if the final output is:\n",
    "\n",
    "```\n",
    "[0, 0.94, 0, 0, 0, 0, 0.06, 0, 0]\n",
    "```\n",
    "then it is most probable that the image is that of the digit `1`."
   ]
  },
  {
   "cell_type": "code",
   "execution_count": null,
   "metadata": {
    "id": "AFvPkCFw8YZU"
   },
   "outputs": [],
   "source": [
    "nb_classes = 10 # number of unique digits\n",
    "\n",
    "Y_train = to_categorical(y_train, nb_classes)\n",
    "Y_test = to_categorical(y_test, nb_classes)"
   ]
  },
  {
   "cell_type": "markdown",
   "metadata": {
    "id": "q_B8ZH5G8YZX"
   },
   "source": [
    "# Building a 3-layer fully connected network\n",
    "\n",
    "<img src=\"https://github.com/wut-mpg/keras-mnist-tutorial/raw/master/figure.png\" />"
   ]
  },
  {
   "cell_type": "code",
   "execution_count": null,
   "metadata": {
    "id": "M-uOWlRv8YZX"
   },
   "outputs": [],
   "source": [
    "# The Sequential model is a linear stack of layers and is very common.\n",
    "\n",
    "model = Sequential()"
   ]
  },
  {
   "cell_type": "markdown",
   "metadata": {
    "id": "iyoUd9WE8YZa"
   },
   "source": [
    "## The first hidden layer"
   ]
  },
  {
   "cell_type": "code",
   "execution_count": null,
   "metadata": {
    "id": "IdgP4lai8YZb"
   },
   "outputs": [],
   "source": [
    "# The first hidden layer is a set of 512 nodes (artificial neurons).\n",
    "# Each node will receive an element from each input vector and apply some weight and bias to it.\n",
    "\n",
    "model.add(Dense(512, input_shape=(784,))) #(784,) is not a typo -- that represents a 784 length vector!"
   ]
  },
  {
   "cell_type": "code",
   "execution_count": null,
   "metadata": {
    "id": "c1MiY3u68YZd"
   },
   "outputs": [],
   "source": [
    "# An \"activation\" is a non-linear function applied to the output of the layer above.\n",
    "# It checks the new value of the node, and decides whether that artifical neuron has fired.\n",
    "# The Rectified Linear Unit (ReLU) converts all negative inputs to nodes in the next layer to be zero.\n",
    "# Those inputs are then not considered to be fired.\n",
    "# Positive values of a node are unchanged.\n",
    "\n",
    "model.add(Activation('relu'))"
   ]
  },
  {
   "cell_type": "markdown",
   "metadata": {
    "id": "tQCRmiMI8YZg"
   },
   "source": [
    "$$f(x) = max (0,x)$$\n",
    "<img src = 'https://github.com/wut-mpg/keras-mnist-tutorial/raw/master/relu.jpg' >"
   ]
  },
  {
   "cell_type": "code",
   "execution_count": null,
   "metadata": {
    "id": "kudeX_kN8YZg"
   },
   "outputs": [],
   "source": [
    "# Dropout zeroes a selection of random outputs (i.e., disables their activation)\n",
    "# Dropout helps protect the model from memorizing or \"overfitting\" the training data.\n",
    "model.add(Dropout(0.2))"
   ]
  },
  {
   "cell_type": "markdown",
   "metadata": {
    "id": "PY5XiXYc8YZj"
   },
   "source": [
    "## Adding the second hidden layer"
   ]
  },
  {
   "cell_type": "code",
   "execution_count": null,
   "metadata": {
    "id": "Tnz-mpIS8YZj"
   },
   "outputs": [],
   "source": [
    "# The second hidden layer appears identical to our first layer.\n",
    "# However, instead of each of the 512-node receiving 784-inputs from the input image data,\n",
    "# they receive 512 inputs from the output of the first 512-node layer.\n",
    "\n",
    "model.add(Dense(512))\n",
    "model.add(Activation('relu'))\n",
    "model.add(Dropout(0.2))"
   ]
  },
  {
   "cell_type": "markdown",
   "metadata": {
    "id": "vkeHSS0h8YZm"
   },
   "source": [
    "## The Final Output Layer"
   ]
  },
  {
   "cell_type": "code",
   "execution_count": null,
   "metadata": {
    "id": "cndhIgBK8YZm"
   },
   "outputs": [],
   "source": [
    "# The final layer of 10 neurons in fully-connected to the previous 512-node layer.\n",
    "# The final layer of a FCN should be equal to the number of desired classes (10 in this case).\n",
    "model.add(Dense(10))"
   ]
  },
  {
   "cell_type": "code",
   "execution_count": null,
   "metadata": {
    "id": "02Zk2VWL8YZp"
   },
   "outputs": [],
   "source": [
    "# The \"softmax\" activation represents a probability distribution over K different possible outcomes.\n",
    "# Its values are all non-negative and sum to 1.\n",
    "\n",
    "model.add(Activation('softmax'))"
   ]
  },
  {
   "cell_type": "code",
   "execution_count": null,
   "metadata": {
    "colab": {
     "base_uri": "https://localhost:8080/"
    },
    "id": "YReJLqWL8YZr",
    "outputId": "80207ffb-cf67-42a5-decb-25812126daa3"
   },
   "outputs": [],
   "source": [
    "# Summarize the built model\n",
    "\n",
    "model.summary()"
   ]
  },
  {
   "cell_type": "markdown",
   "metadata": {
    "id": "UcndsYyk8YZv"
   },
   "source": [
    "## Compiling the model\n",
    "\n",
    "Keras is built on top of Theano and TensorFlow. Both packages allow you to define a *computation graph* in Python, which then compiles and runs efficiently on the CPU or GPU without the overhead of the Python interpreter.\n",
    "\n",
    "When compiing a model, Keras asks you to specify your **loss function** and your **optimizer**. The loss function we'll use here is called *categorical cross-entropy*, and is a loss function well-suited to comparing two probability distributions.\n",
    "\n",
    "Our predictions are probability distributions across the ten different digits (e.g. \"we're 80% confident this image is a 3, 10% sure it's an 8, 5% it's a 2, etc.\"), and the target is a probability distribution with 100% for the correct category, and 0 for everything else. The cross-entropy is a measure of how different your predicted distribution is from the target distribution. [More detail at Wikipedia](https://en.wikipedia.org/wiki/Cross_entropy)\n",
    "\n",
    "The optimizer helps determine how quickly the model learns through **gradient descent**. The rate at which descends a gradient is called the **learning rate**."
   ]
  },
  {
   "cell_type": "markdown",
   "metadata": {
    "id": "Wsv1Z9LC8YZw"
   },
   "source": [
    "<img src = \"https://github.com/wut-mpg/keras-mnist-tutorial/raw/master/gradient_descent.png\" >"
   ]
  },
  {
   "cell_type": "markdown",
   "metadata": {
    "id": "vZWeBx-58YZx"
   },
   "source": [
    "<img src = \"https://github.com/wut-mpg/keras-mnist-tutorial/raw/master/learning_rate.png\" >"
   ]
  },
  {
   "cell_type": "markdown",
   "metadata": {
    "id": "ptVA6aSg8YZy"
   },
   "source": [
    "So are smaller learning rates better? Not quite! It's important for an optimizer not to get stuck in local minima while neglecting the global minimum of the loss function. Sometimes that means trying a larger learning rate to jump out of a local minimum."
   ]
  },
  {
   "cell_type": "markdown",
   "metadata": {
    "id": "zSGiajLT8YZ1"
   },
   "source": [
    "<img src = 'https://github.com/wut-mpg/keras-mnist-tutorial/raw/master/complicated_loss_function.png' >"
   ]
  },
  {
   "cell_type": "code",
   "execution_count": null,
   "metadata": {
    "id": "7RUmQxfp8YZ2"
   },
   "outputs": [],
   "source": [
    "# Let's use the Adam optimizer for learning\n",
    "adam = tf.optimizers.Adam(learning_rate=0.001)\n",
    "model.compile(loss='categorical_crossentropy', optimizer=adam, metrics=['accuracy'])"
   ]
  },
  {
   "cell_type": "markdown",
   "metadata": {
    "id": "d-u8EqW48YZ3"
   },
   "source": [
    "## Train the model!\n",
    "This is the fun part!"
   ]
  },
  {
   "cell_type": "markdown",
   "metadata": {
    "id": "rTynqX-H8YZ4"
   },
   "source": [
    "The batch size determines over how much data per step is used to compute the loss function, gradients, and back propagation. Large batch sizes allow the network to complete it's training faster; however, there are other factors beyond training speed to consider.\n",
    "\n",
    "Too large of a batch size smoothes the local minima of the loss function, causing the optimizer to settle in one because it thinks it found the global minimum.\n",
    "\n",
    "Too small of a batch size creates a very noisy loss function, and the optimizer may never find the global minimum.\n",
    "\n",
    "So a good batch size may take some trial and error to find!"
   ]
  },
  {
   "cell_type": "code",
   "execution_count": null,
   "metadata": {
    "colab": {
     "base_uri": "https://localhost:8080/"
    },
    "id": "MxhTSlBI8YZ5",
    "outputId": "1428ff5e-d1c9-4297-c9db-d01e17797af3"
   },
   "outputs": [],
   "source": [
    "model.fit(X_train, Y_train,\n",
    "          batch_size=128, epochs=5,\n",
    "          verbose=1)"
   ]
  },
  {
   "cell_type": "markdown",
   "metadata": {
    "id": "YufwyCC38YZ6"
   },
   "source": [
    "The two numbers, in order, represent the value of the loss function of the network on the training set, and the overall accuracy of the network on the training data. But how does it do on data it did not train on?"
   ]
  },
  {
   "cell_type": "markdown",
   "metadata": {
    "id": "wQORnbe08YZ7"
   },
   "source": [
    "## Evaluate Model's Accuracy on Test Data"
   ]
  },
  {
   "cell_type": "code",
   "execution_count": null,
   "metadata": {
    "colab": {
     "base_uri": "https://localhost:8080/"
    },
    "id": "SX3n6p108YZ7",
    "outputId": "882d8060-ff99-4802-b0c4-18ce6542bf33"
   },
   "outputs": [],
   "source": [
    "score = model.evaluate(X_test, Y_test)\n",
    "print('Test score:', score[0])\n",
    "print('Test accuracy:', score[1])"
   ]
  },
  {
   "cell_type": "code",
   "execution_count": null,
   "metadata": {
    "id": "NYD0_NjusHRL"
   },
   "outputs": [],
   "source": [
    "def plot_confusion_matrix(cm, classes,\n",
    "                          normalize=False,\n",
    "                          title='Confusion matrix',\n",
    "                          cmap=plt.cm.Blues):\n",
    "    \"\"\"\n",
    "    This function prints and plots the confusion matrix.\n",
    "    Normalization can be applied by setting `normalize=True`.\n",
    "    \"\"\"\n",
    "    if normalize:\n",
    "        cm = cm.astype('float') / cm.sum(axis=1)[:, np.newaxis]\n",
    "        print(\"Normalized confusion matrix\")\n",
    "    else:\n",
    "        print('Confusion matrix, without normalization')\n",
    "\n",
    "    print(cm)\n",
    "\n",
    "\n",
    "    plt.imshow(cm, interpolation='nearest', cmap=cmap)\n",
    "    plt.title(title)\n",
    "    plt.colorbar()\n",
    "    tick_marks = np.arange(len(classes))\n",
    "    plt.xticks(tick_marks, classes, rotation=45)\n",
    "    plt.yticks(tick_marks, classes)\n",
    "\n",
    "    fmt = '.2f' if normalize else 'd'\n",
    "    thresh = cm.max() / 2.\n",
    "    for i, j in itertools.product(range(cm.shape[0]), range(cm.shape[1])):\n",
    "        plt.text(j, i, format(cm[i, j], fmt),\n",
    "                 horizontalalignment=\"center\",\n",
    "                 color=\"white\" if cm[i, j] > thresh else \"black\")\n",
    "\n",
    "    plt.ylabel('True label')\n",
    "    plt.xlabel('Predicted label')\n",
    "    plt.tight_layout()"
   ]
  },
  {
   "cell_type": "markdown",
   "metadata": {
    "id": "yWaT13H78YZ9"
   },
   "source": [
    "### Inspecting the output\n",
    "\n",
    "It's always a good idea to inspect the output and make sure everything looks sane. Here we'll look at some examples it gets right, and some examples it gets wrong."
   ]
  },
  {
   "cell_type": "code",
   "execution_count": null,
   "metadata": {
    "colab": {
     "base_uri": "https://localhost:8080/",
     "height": 1000
    },
    "id": "LFECu0nE8YZ-",
    "outputId": "b16aba6d-811f-47b2-a0db-e53489fe5df1"
   },
   "outputs": [],
   "source": [
    "# The predict_classes function outputs the highest probability class\n",
    "# according to the trained classifier for each input example.\n",
    "predict = model.predict(X_test)\n",
    "predicted_classes = np.argmax(predict,axis=1)\n",
    "\n",
    "# Check which items we got right / wrong\n",
    "correct_indices = np.nonzero(predicted_classes == y_test)[0]\n",
    "incorrect_indices = np.nonzero(predicted_classes != y_test)[0]\n",
    "cnf_matrix = confusion_matrix(y_test, predicted_classes)\n",
    "\n",
    "class_names = [str(i) for i in range(10)]\n",
    "\n",
    "# Plot non-normalized confusion matrix\n",
    "plt.figure()\n",
    "plot_confusion_matrix(cnf_matrix, classes=class_names,\n",
    "                      title='Confusion matrix, without normalization')\n",
    "\n",
    "plt.show()\n"
   ]
  },
  {
   "cell_type": "code",
   "execution_count": null,
   "metadata": {
    "id": "d4tL55qnBfAA"
   },
   "outputs": [],
   "source": []
  },
  {
   "cell_type": "markdown",
   "metadata": {
    "id": "Ct14A0rsD-Ja"
   },
   "source": [
    "**Correct predictions**"
   ]
  },
  {
   "cell_type": "code",
   "execution_count": null,
   "metadata": {
    "colab": {
     "base_uri": "https://localhost:8080/",
     "height": 906
    },
    "id": "ew6oWSoY8YaA",
    "outputId": "8de14653-7da4-4120-96a1-b823954df616"
   },
   "outputs": [],
   "source": [
    "def show_samples(indices, preds, images, labels, count=3, names = []):\n",
    "    plt.figure()\n",
    "    for i, sample in enumerate(indices[:count**2]):\n",
    "        pred_id = int(np.argmax(preds[sample]))\n",
    "        real_id = int(labels[sample])\n",
    "        pred_score = preds[sample][pred_id]\n",
    "        real_score = preds[sample][real_id]\n",
    "        plt.subplot(count,count,i+1)\n",
    "        plt.imshow(images[sample].reshape(28,28), cmap='gray', interpolation='none')\n",
    "        plt.axis('off')\n",
    "        if len(names) > 0:\n",
    "          plt.title(\"P: {} ({:.2f})\\nE: {} ({:.2f})\".format(names[pred_id], pred_score, names[real_id], real_score))\n",
    "        else:\n",
    "          plt.title(\"P: {} ({:.2f})\\nE: {} ({:.2f})\".format(pred_id, pred_score, real_id, real_score))\n",
    "\n",
    "    plt.tight_layout()\n",
    "\n",
    "show_samples(correct_indices, predict, X_test, y_test, 5)"
   ]
  },
  {
   "cell_type": "markdown",
   "metadata": {
    "id": "fhZp92ZxEGn4"
   },
   "source": [
    "**Wrong predictions**"
   ]
  },
  {
   "cell_type": "code",
   "execution_count": null,
   "metadata": {
    "colab": {
     "base_uri": "https://localhost:8080/",
     "height": 906
    },
    "id": "FrAIwG1CEFxe",
    "outputId": "bd8f88cd-5a58-4fce-8674-4a6ceb9d4d2e"
   },
   "outputs": [],
   "source": [
    "show_samples(incorrect_indices, predict, X_test, y_test, 5)"
   ]
  },
  {
   "cell_type": "markdown",
   "metadata": {
    "id": "6ZzALozi8YaD"
   },
   "source": [
    "# Try experimenting with the batch size!\n",
    "\n",
    "   * How does increasing the batch size to 10,000 affect the training time and test accuracy?\n",
    "   * How about a batch size of 32?\n",
    "   * Is there any difference in results between the students? If so - why?\n",
    "   * Experiment with the learning rate in the optimizer"
   ]
  },
  {
   "cell_type": "markdown",
   "metadata": {
    "id": "uPUgO1BY8YaD"
   },
   "source": [
    "# Introducing Convolution! What is it?"
   ]
  },
  {
   "cell_type": "markdown",
   "metadata": {
    "id": "vs75ypBn8YaE"
   },
   "source": [
    "Before, we built a network that accepts the normalized pixel values of each value and operates soley on those values. What if we could instead feed different features (e.g. **curvature, edges**) of each image into a network, and have the network learn which features are important for classifying an image?\n",
    "\n",
    "This possible through convolution! Convolution applies **kernels** (filters) that traverse through each image and generate **feature maps**."
   ]
  },
  {
   "cell_type": "markdown",
   "metadata": {
    "id": "eVIKBobD8YaF"
   },
   "source": [
    "<img src = 'https://github.com/wut-mpg/keras-mnist-tutorial/raw/master/convolution.gif' >"
   ]
  },
  {
   "cell_type": "markdown",
   "metadata": {
    "id": "gYJDfK4p8YaG"
   },
   "source": [
    "In the above example, the image is a 5 x 5 matrix and the kernel going over it is a 3 x 3 matrix. A dot product operation takes place between the image and the kernel and the convolved feature is generated. Each kernel in a CNN learns a different characteristic of an image.\n",
    "\n",
    "Kernels are often used in photoediting software to apply blurring, edge detection, sharpening, etc."
   ]
  },
  {
   "cell_type": "markdown",
   "metadata": {
    "id": "qm9CKpnr8YaH"
   },
   "source": [
    "<img src = 'https://github.com/wut-mpg/keras-mnist-tutorial/raw/master/kernels.png' >"
   ]
  },
  {
   "cell_type": "markdown",
   "metadata": {
    "id": "QdHIoa-E8YaH"
   },
   "source": [
    "Kernels in deep learning networks are used in similar ways, i.e. highlighting some feature. Combined with a system called **max pooling**, the non-highlighted elements are discarded from each feature map, leaving only the features of interest, reducing the number of learned parameters, and decreasing the computational cost (e.g. system memory)."
   ]
  },
  {
   "cell_type": "markdown",
   "metadata": {
    "id": "ceCEMpHf8YaI"
   },
   "source": [
    "<img src = 'https://github.com/wut-mpg/keras-mnist-tutorial/raw/master/max_pooling.png' >"
   ]
  },
  {
   "cell_type": "markdown",
   "metadata": {
    "id": "poGu943u8YaJ"
   },
   "source": [
    "We can also take convolutions of convolutions -- we can stack as many convolutions as we want, as long as there are enough pixels to fit a kernel.\n",
    "\n",
    "*Warning: What you may find down there in those deep convolutions may not appear recognizable to you.*"
   ]
  },
  {
   "cell_type": "markdown",
   "metadata": {
    "id": "u7KmEU3m8YaJ"
   },
   "source": [
    "<img src = 'https://github.com/wut-mpg/keras-mnist-tutorial/raw/master/go_deeper.jpg' >"
   ]
  },
  {
   "cell_type": "markdown",
   "metadata": {
    "id": "h88R-Bsa8YaK"
   },
   "source": [
    "## Building a \"Deep\" Convolutional Neural Network"
   ]
  },
  {
   "cell_type": "code",
   "execution_count": null,
   "metadata": {
    "id": "qoXIbzAG8YaL"
   },
   "outputs": [],
   "source": [
    "# import some additional tools\n",
    "\n",
    "from keras.preprocessing.image import ImageDataGenerator\n",
    "from keras.layers import Conv2D, MaxPooling2D, ZeroPadding2D, GlobalAveragePooling2D, Flatten\n",
    "from keras.layers import BatchNormalization"
   ]
  },
  {
   "cell_type": "code",
   "execution_count": null,
   "metadata": {
    "id": "w0MBTlCL8YaM"
   },
   "outputs": [],
   "source": [
    "# Reload the MNIST data\n",
    "(X_train, y_train), (X_test, y_test) = mnist.load_data()"
   ]
  },
  {
   "cell_type": "code",
   "execution_count": null,
   "metadata": {
    "colab": {
     "base_uri": "https://localhost:8080/"
    },
    "id": "TbBjjLil8YaO",
    "outputId": "f6cf7711-1959-4d80-89f9-5769b86000ca"
   },
   "outputs": [],
   "source": [
    "# Again, do some formatting\n",
    "# Except we do not flatten each image into a 784-length vector because we want to perform convolutions first\n",
    "\n",
    "X_train = X_train.reshape(60000, 28, 28, 1) #add an additional dimension to represent the single-channel\n",
    "X_test = X_test.reshape(10000, 28, 28, 1)\n",
    "\n",
    "X_train = X_train.astype('float32')         # change integers to 32-bit floating point numbers\n",
    "X_test = X_test.astype('float32')\n",
    "\n",
    "X_train /= 255                              # normalize each value for each pixel for the entire vector for each input\n",
    "X_test /= 255\n",
    "\n",
    "print(\"Training matrix shape\", X_train.shape)\n",
    "print(\"Testing matrix shape\", X_test.shape)"
   ]
  },
  {
   "cell_type": "code",
   "execution_count": null,
   "metadata": {
    "id": "aNNglEKV8YaR"
   },
   "outputs": [],
   "source": [
    "# one-hot format classes\n",
    "\n",
    "nb_classes = 10 # number of unique digits\n",
    "\n",
    "Y_train = to_categorical(y_train, nb_classes)\n",
    "Y_test = to_categorical(y_test, nb_classes)"
   ]
  },
  {
   "cell_type": "code",
   "execution_count": null,
   "metadata": {
    "id": "buX5gLwP8YaT"
   },
   "outputs": [],
   "source": [
    "model = Sequential()                                 # Linear stacking of layers\n",
    "\n",
    "# Convolution Layer 1\n",
    "model.add(Conv2D(16, (5, 5), input_shape=(28,28,1))) # 16 different 5x5 kernels -- so 16 feature maps\n",
    "model.add(Activation('relu') )                       # activation\n",
    "model.add(MaxPooling2D(pool_size=(2,2)))             # Pool the max values over a 2x2 kernel\n",
    "\n",
    "# Convolution Layer 2\n",
    "model.add(Conv2D(32, (5, 5)))                        # 32 different 5x5 kernels -- so 32 feature maps\n",
    "model.add(Activation('relu'))                        # activation\n",
    "model.add(MaxPooling2D(pool_size=(2,2)))             # Pool the max values over a 2x2 kernel\n",
    "\n",
    "model.add(Flatten())                                 # Flatten final output matrix into a vector\n",
    "\n",
    "# Fully Connected Layer\n",
    "model.add(Dense(128))                                # 128 FC nodes\n",
    "model.add(Activation('relu'))                        # activation\n",
    "\n",
    "# Fully Connected Layer\n",
    "model.add(Dense(10))                                 # final 10 FC nodes\n",
    "model.add(Activation('softmax'))                     # softmax activation"
   ]
  },
  {
   "cell_type": "code",
   "execution_count": null,
   "metadata": {
    "colab": {
     "base_uri": "https://localhost:8080/"
    },
    "id": "srtd-OZV8YaV",
    "outputId": "c9607879-bd3d-4480-b26b-dc5e916ef3e5"
   },
   "outputs": [],
   "source": [
    "model.summary()"
   ]
  },
  {
   "cell_type": "code",
   "execution_count": null,
   "metadata": {
    "id": "TJ5vnJet8YaX"
   },
   "outputs": [],
   "source": [
    "# we'll use the same optimizer\n",
    "adam = tf.optimizers.Adam(learning_rate=0.001)\n",
    "model.compile(loss='categorical_crossentropy', optimizer=adam, metrics=['accuracy'])"
   ]
  },
  {
   "cell_type": "code",
   "execution_count": null,
   "metadata": {
    "id": "WShqV9h28Yaa"
   },
   "outputs": [],
   "source": [
    "# data augmentation prevents overfitting by slightly changing the data randomly\n",
    "# Keras has a great built-in feature to do automatic augmentation\n",
    "\n",
    "gen = ImageDataGenerator(rotation_range=8, width_shift_range=0.08, shear_range=0.3,\n",
    "                         height_shift_range=0.08, zoom_range=0.08, validation_split=0.2)\n",
    "\n",
    "test_gen = ImageDataGenerator()"
   ]
  },
  {
   "cell_type": "code",
   "execution_count": null,
   "metadata": {
    "id": "VsGRzqqd8Yab"
   },
   "outputs": [],
   "source": [
    "# We can then feed our augmented data in batches\n",
    "# Besides loss function considerations as before, this method actually results in significant memory savings\n",
    "# because we are actually LOADING the data into the network in batches before processing each batch\n",
    "\n",
    "# Before the data was all loaded into memory, but then processed in batches.\n",
    "\n",
    "train_generator = gen.flow(X_train, Y_train, batch_size=128, subset='training')\n",
    "valid_generator = gen.flow(X_train, Y_train, batch_size=128, subset='validation')\n",
    "test_generator = test_gen.flow(X_test, Y_test, batch_size=128)"
   ]
  },
  {
   "cell_type": "code",
   "execution_count": null,
   "metadata": {
    "colab": {
     "base_uri": "https://localhost:8080/"
    },
    "id": "_DXSGa-z8Yae",
    "outputId": "47a5dfcf-fa1b-4de4-fc02-a2f388169490"
   },
   "outputs": [],
   "source": [
    "# We can now train our model which is fed data by our batch loader\n",
    "# Steps per epoch should always be total size of the set divided by the batch size\n",
    "\n",
    "# SIGNIFICANT MEMORY SAVINGS (important for larger, deeper networks)\n",
    "\n",
    "model.fit(train_generator, steps_per_epoch=48000//128, epochs=5, verbose=1, validation_data=valid_generator, validation_steps = 12000 // 128)"
   ]
  },
  {
   "cell_type": "code",
   "execution_count": null,
   "metadata": {
    "colab": {
     "base_uri": "https://localhost:8080/"
    },
    "id": "6YZaV3U-8Yah",
    "outputId": "291dcaae-95b9-4db3-ee3a-f472e90ebcda"
   },
   "outputs": [],
   "source": [
    "score = model.evaluate(X_test, Y_test)\n",
    "print('Test score:', score[0])\n",
    "print('Test accuracy:', score[1])"
   ]
  },
  {
   "cell_type": "code",
   "execution_count": null,
   "metadata": {
    "colab": {
     "base_uri": "https://localhost:8080/",
     "height": 1000
    },
    "id": "WqvF3eS2pnLp",
    "outputId": "0594401a-4050-42fa-e198-6912ccad62cc"
   },
   "outputs": [],
   "source": [
    "# The predict_classes function outputs the highest probability class\n",
    "# according to the trained classifier for each input example.\n",
    "predict = model.predict(X_test)\n",
    "predicted_classes = np.argmax(predict,axis=1)\n",
    "\n",
    "# Check which items we got right / wrong\n",
    "correct_indices = np.nonzero(predicted_classes == y_test)[0]\n",
    "\n",
    "incorrect_indices = np.nonzero(predicted_classes != y_test)[0]\n",
    "\n",
    "\n",
    "cnf_matrix = confusion_matrix(y_test, predicted_classes)\n",
    "\n",
    "class_names = [str(i) for i in range(10)]\n",
    "\n",
    "# Plot non-normalized confusion matrix\n",
    "plt.figure()\n",
    "plot_confusion_matrix(cnf_matrix, classes=class_names,\n",
    "                      title='Confusion matrix, without normalization')\n",
    "\n",
    "plt.show()"
   ]
  },
  {
   "cell_type": "code",
   "execution_count": null,
   "metadata": {
    "colab": {
     "base_uri": "https://localhost:8080/",
     "height": 906
    },
    "id": "Wn7FDt7DqSKB",
    "outputId": "b0ad9e24-9992-4ec4-c920-3d5a88c3941c"
   },
   "outputs": [],
   "source": [
    "show_samples(correct_indices, predict, X_test, y_test, 5)"
   ]
  },
  {
   "cell_type": "code",
   "execution_count": null,
   "metadata": {
    "colab": {
     "base_uri": "https://localhost:8080/",
     "height": 906
    },
    "id": "r0m_gom9qL3o",
    "outputId": "999960b7-d8cd-4760-8aab-d301af027ac7"
   },
   "outputs": [],
   "source": [
    "show_samples(incorrect_indices, predict, X_test, y_test, 5)"
   ]
  },
  {
   "cell_type": "markdown",
   "metadata": {
    "id": "RsY5uPgU8Yak"
   },
   "source": [
    "## Great results!\n",
    "\n",
    "But wouldn't it be nice if we could visualize those convolutions so that we can see what the model is seeing?"
   ]
  },
  {
   "cell_type": "code",
   "execution_count": null,
   "metadata": {
    "id": "BgbunToX8Yal"
   },
   "outputs": [],
   "source": [
    "def visualize2(model, layer, img, r, c):\n",
    "  from keras import Model\n",
    "  # expand dimensions so that it represents a single 'sample'\n",
    "  img = np.expand_dims(img, axis=0)\n",
    "  outputs = [layer.output]\n",
    "  model = Model(inputs=model.inputs, outputs=outputs)\n",
    "  # get feature map for first hidden layer\n",
    "  feature_maps = model.predict(img)\n",
    "  for fmap in feature_maps:\n",
    "  # plot all 64 maps in an 8x8 squares\n",
    "    ix = 1\n",
    "    for _ in range(r):\n",
    "      for _ in range(c):\n",
    "        # specify subplot and turn of axis\n",
    "        ax = plt.subplot(r, c, ix)\n",
    "        ax.set_xticks([])\n",
    "        ax.set_yticks([])\n",
    "        # plot filter channel in grayscale\n",
    "        plt.imshow(fmap[:, :, ix-1], cmap='gray')\n",
    "        ix += 1"
   ]
  },
  {
   "cell_type": "code",
   "execution_count": null,
   "metadata": {
    "colab": {
     "base_uri": "https://localhost:8080/",
     "height": 770
    },
    "id": "ZiDemlgp8Yan",
    "outputId": "6255c19a-48d8-4589-859a-bf7743f7a0e0"
   },
   "outputs": [],
   "source": [
    "plt.figure()\n",
    "img = X_test[11]\n",
    "plt.imshow(img[:,:,0], cmap='gray', interpolation='none')"
   ]
  },
  {
   "cell_type": "code",
   "execution_count": null,
   "metadata": {
    "colab": {
     "base_uri": "https://localhost:8080/",
     "height": 747
    },
    "id": "UklZv03C8Yao",
    "outputId": "6795a13c-d664-4336-a4ff-b46374dbe45b"
   },
   "outputs": [],
   "source": [
    "visualize2(model, model.layers[1], img, 4, 4)"
   ]
  },
  {
   "cell_type": "code",
   "execution_count": null,
   "metadata": {
    "colab": {
     "base_uri": "https://localhost:8080/",
     "height": 670
    },
    "id": "gt8S9bzR8Yar",
    "outputId": "938b929e-7cdc-4deb-f99f-096a75acf35a"
   },
   "outputs": [],
   "source": [
    "visualize2(model, model.layers[4], img, 4, 8)"
   ]
  },
  {
   "cell_type": "markdown",
   "metadata": {
    "id": "okUztZOd79by"
   },
   "source": [
    "# Transfer learning"
   ]
  },
  {
   "cell_type": "markdown",
   "metadata": {
    "id": "8MRwLZgGhK-K"
   },
   "source": [
    "## Funkcje pomocnicze"
   ]
  },
  {
   "cell_type": "code",
   "execution_count": null,
   "metadata": {
    "id": "1AIiBfX78luv"
   },
   "outputs": [],
   "source": [
    "# Loading the specified subset of digits from the MNIST dataset\n",
    "def get_mnist(digits):\n",
    "  # Reload the MNIST data\n",
    "  (X_train, y_train), (X_test, y_test) = mnist.load_data()\n",
    "\n",
    "  train_ids = np.in1d(y_train, digits)\n",
    "  test_ids = np.in1d(y_test, digits)\n",
    "  X_train = X_train[train_ids]\n",
    "  X_test = X_test[test_ids]\n",
    "  y_train = y_train[train_ids]\n",
    "  y_test = y_test[test_ids]\n",
    "\n",
    "  X_train = np.expand_dims(X_train, axis=-1)\n",
    "  X_test = np.expand_dims(X_test, axis=-1)\n",
    "\n",
    "  X_train = X_train.astype('float32')         # change integers to 32-bit floating point numbers\n",
    "  X_test = X_test.astype('float32')\n",
    "\n",
    "  X_train /= 255                              # normalize each value for each pixel for the entire vector for each input\n",
    "  X_test /= 255\n",
    "\n",
    "  return X_train, y_train, X_test, y_test"
   ]
  },
  {
   "cell_type": "code",
   "execution_count": null,
   "metadata": {
    "id": "Zf0T6tdPBC70"
   },
   "outputs": [],
   "source": [
    "# Preparing the base model\n",
    "def prepare_model(input_shape, class_count):\n",
    "  model = Sequential()                                 # Linear stacking of layers\n",
    "\n",
    "  # Convolution Layer 1\n",
    "  model.add(Conv2D(16, (3, 3), padding=\"same\", input_shape=input_shape))\n",
    "  model.add(Activation('relu') )\n",
    "  model.add(MaxPooling2D(pool_size=(2,2)))\n",
    "\n",
    "  # Convolution Layer 2\n",
    "  model.add(Conv2D(32, (3, 3), padding=\"same\"))\n",
    "  model.add(Activation('relu'))\n",
    "  model.add(MaxPooling2D(pool_size=(2,2)))\n",
    "\n",
    "  # Convolution Layer 3\n",
    "  model.add(Conv2D(64, (3, 3), padding=\"same\"))\n",
    "  model.add(Activation('relu'))\n",
    "  model.add(MaxPooling2D(pool_size=(2,2)))\n",
    "\n",
    "  model.add(Flatten())\n",
    "\n",
    "  # Fully Connected Layer\n",
    "  model.add(Dense(64))\n",
    "  model.add(Activation('relu'))\n",
    "\n",
    "  # Fully Connected Layer\n",
    "  model.add(Dense(class_count))\n",
    "  model.add(Activation('softmax'))\n",
    "\n",
    "  return model"
   ]
  },
  {
   "cell_type": "code",
   "execution_count": null,
   "metadata": {
    "id": "EX6bXUPBGDyx"
   },
   "outputs": [],
   "source": [
    "# One-hot encoding of non-consecutive labels\n",
    "def one_hot(labels):\n",
    "  from sklearn.preprocessing import OneHotEncoder\n",
    "  encoder = OneHotEncoder(categories='auto')\n",
    "  l = labels.reshape(-1, 1)\n",
    "  output = encoder.fit_transform(l)\n",
    "  return output.toarray()"
   ]
  },
  {
   "cell_type": "code",
   "execution_count": null,
   "metadata": {
    "id": "-VP_9oFFiE6a"
   },
   "outputs": [],
   "source": [
    "def test_model(model, X_test, Y_test, y_test, digits):\n",
    "  score = model.evaluate(X_test, Y_test)\n",
    "  print('Test score:', score[0])\n",
    "  print('Test accuracy:', score[1])\n",
    "\n",
    "  # The predict_classes function outputs the highest probability class\n",
    "  # according to the trained classifier for each input example.\n",
    "  predicted = model.predict(X_test)\n",
    "  predicted_classes = np.argmax(predicted, axis=1)\n",
    "\n",
    "  actual_classes = [digits[x] for x in predicted_classes]\n",
    "\n",
    "  # Check which items we got right / wrong\n",
    "  correct_indices = np.nonzero(actual_classes == y_test)[0]\n",
    "\n",
    "  incorrect_indices = np.nonzero(actual_classes != y_test)[0]\n",
    "\n",
    "\n",
    "  cnf_matrix = confusion_matrix(y_test, actual_classes)\n",
    "\n",
    "  class_names = [str(i) for i in digits]\n",
    "\n",
    "  # Plot non-normalized confusion matrix\n",
    "  plt.figure()\n",
    "  plot_confusion_matrix(cnf_matrix, classes=class_names,\n",
    "                        title='Confusion matrix, without normalization')\n",
    "\n",
    "  plt.show()"
   ]
  },
  {
   "cell_type": "markdown",
   "metadata": {
    "id": "Fi7BwsX8h5Dm"
   },
   "source": [
    "## Trening modelu bazowego: cyfry 0..4"
   ]
  },
  {
   "cell_type": "code",
   "execution_count": null,
   "metadata": {
    "colab": {
     "base_uri": "https://localhost:8080/"
    },
    "id": "ZyAj3Kk4Bw4d",
    "outputId": "5c383cb2-d515-40c1-a1f6-4f45f10c029b"
   },
   "outputs": [],
   "source": [
    "digits = [0, 1, 2, 3, 4]\n",
    "\n",
    "X_train, y_train, X_test, y_test = get_mnist(digits)\n",
    "\n",
    "Y_train = one_hot(y_train)\n",
    "Y_test = one_hot(y_test)\n",
    "\n",
    "model = prepare_model( (28, 28, 1), 5)\n",
    "\n",
    "adam = tf.optimizers.Adam(learning_rate=0.001)\n",
    "model.compile(loss='categorical_crossentropy', optimizer=adam, metrics=['accuracy'])\n",
    "\n",
    "model.summary()\n",
    "\n"
   ]
  },
  {
   "cell_type": "code",
   "execution_count": null,
   "metadata": {
    "id": "BjEZRMnvChne"
   },
   "outputs": [],
   "source": [
    "gen = ImageDataGenerator(rotation_range=8, width_shift_range=0.08, shear_range=0.3,\n",
    "                         height_shift_range=0.08, zoom_range=0.08, validation_split=0.2)\n",
    "\n",
    "test_gen = ImageDataGenerator()\n",
    "\n",
    "train_generator = gen.flow(X_train, Y_train, batch_size=128, subset='training')\n",
    "valid_generator = gen.flow(X_train, Y_train, batch_size=128, subset='validation')\n",
    "test_generator = test_gen.flow(X_test, Y_test, batch_size=128)"
   ]
  },
  {
   "cell_type": "code",
   "execution_count": null,
   "metadata": {
    "colab": {
     "base_uri": "https://localhost:8080/"
    },
    "id": "byGKttIXDfE3",
    "outputId": "b07c62a8-030a-4da4-b947-e97140bb796a"
   },
   "outputs": [],
   "source": [
    "model.fit_generator(train_generator, steps_per_epoch=25000//128, epochs=5, verbose=1, validation_data=valid_generator, validation_steps = 5000 // 128)"
   ]
  },
  {
   "cell_type": "code",
   "execution_count": null,
   "metadata": {
    "colab": {
     "base_uri": "https://localhost:8080/",
     "height": 1000
    },
    "id": "3sUGcowEMLHk",
    "outputId": "7b1de02c-647a-4640-d247-fab34a416ef8"
   },
   "outputs": [],
   "source": [
    "test_model(model, X_test, Y_test, y_test, digits)"
   ]
  },
  {
   "cell_type": "markdown",
   "metadata": {
    "id": "0fkbvsjbiIi5"
   },
   "source": [
    "## Transfer wiedzy do nowego modelu: cyfry 5..9"
   ]
  },
  {
   "cell_type": "code",
   "execution_count": null,
   "metadata": {
    "id": "MfJ3UmNrMwfC"
   },
   "outputs": [],
   "source": [
    "# Extract specified range of layers to a new sequential model\n",
    "def extract_layers(main_model, starting_layer_ix, ending_layer_ix):\n",
    "  # create an empty model\n",
    "  new_model = Sequential()\n",
    "  for ix in range(starting_layer_ix, ending_layer_ix + 1):\n",
    "    curr_layer = main_model.get_layer(index=ix)\n",
    "    # copy this layer over to the new model\n",
    "    new_model.add(curr_layer)\n",
    "  return new_model"
   ]
  },
  {
   "cell_type": "markdown",
   "metadata": {
    "id": "aAY_aLnOiTct"
   },
   "source": [
    "Nowy model stworzony jest na bazie wytrenowanego modelu bazowego. Część odpowiedzialna za detekcję cech w obrazie (warstwy splotowe) są wykorzystywane jako podstawa dla nowej sieci. Część klasyfikacyjna jest dodawana na nowo, z losowo zainicjowanymi wagami.\n",
    "\n",
    "Warstwy splotowe były wstępnie wytrenowane w modelu bazowym, więc są zamrażane. Treningowi podlega tylko część klasyfikacyjna."
   ]
  },
  {
   "cell_type": "code",
   "execution_count": null,
   "metadata": {
    "colab": {
     "base_uri": "https://localhost:8080/"
    },
    "id": "qzDfXKIMNXMK",
    "outputId": "9aa913b2-1b7a-4db5-ee26-f2aca777fad1"
   },
   "outputs": [],
   "source": [
    "new_model = extract_layers(model, 0, 9)\n",
    "\n",
    "# Fully Connected Layer\n",
    "new_model.add(Dense(64))\n",
    "new_model.add(Activation('relu'))\n",
    "\n",
    "# Fully Connected Layer\n",
    "new_model.add(Dense(5))\n",
    "new_model.add(Activation('softmax'))\n",
    "\n",
    "for ix in range(0, 9+1):\n",
    "  new_model.get_layer(index=ix).trainable=False\n",
    "\n",
    "new_digits = [5, 6, 7, 8, 9]\n",
    "\n",
    "X_train, y_train, X_test, y_test = get_mnist(new_digits)\n",
    "\n",
    "Y_train = one_hot(y_train)\n",
    "Y_test = one_hot(y_test)\n",
    "\n",
    "new_model.compile(loss='categorical_crossentropy', optimizer=tf.keras.optimizers.legacy.Adam(), metrics=['accuracy'])\n",
    "\n",
    "new_model.summary()"
   ]
  },
  {
   "cell_type": "code",
   "execution_count": null,
   "metadata": {
    "id": "quqhC141PBTO"
   },
   "outputs": [],
   "source": [
    "gen = ImageDataGenerator(rotation_range=8, width_shift_range=0.08, shear_range=0.3,\n",
    "                         height_shift_range=0.08, zoom_range=0.08, validation_split=0.2)\n",
    "\n",
    "test_gen = ImageDataGenerator()\n",
    "\n",
    "train_generator = gen.flow(X_train, Y_train, batch_size=128, subset='training')\n",
    "valid_generator = gen.flow(X_train, Y_train, batch_size=128, subset='validation')\n",
    "test_generator = test_gen.flow(X_test, Y_test, batch_size=128)"
   ]
  },
  {
   "cell_type": "markdown",
   "metadata": {
    "id": "oqy-_NxblqDy"
   },
   "source": [
    "Trening nowego modelu"
   ]
  },
  {
   "cell_type": "code",
   "execution_count": null,
   "metadata": {
    "colab": {
     "base_uri": "https://localhost:8080/"
    },
    "id": "l0H5XRxWPKvC",
    "outputId": "8724009f-078d-4667-c14e-087b53968956"
   },
   "outputs": [],
   "source": [
    "new_model.fit_generator(train_generator, steps_per_epoch=24000//128, epochs=5, verbose=1, validation_data=valid_generator, validation_steps = 6000 // 128)"
   ]
  },
  {
   "cell_type": "code",
   "execution_count": null,
   "metadata": {
    "colab": {
     "base_uri": "https://localhost:8080/",
     "height": 1000
    },
    "id": "FRuh3MN-PeDr",
    "outputId": "228c9b51-95d9-4660-c5ef-c60f95edefcb"
   },
   "outputs": [],
   "source": [
    "test_model(new_model, X_test, Y_test, y_test, new_digits)"
   ]
  },
  {
   "cell_type": "markdown",
   "metadata": {
    "id": "2zgQd-nJjU2F"
   },
   "source": [
    "## Fine-tuning"
   ]
  },
  {
   "cell_type": "markdown",
   "metadata": {
    "id": "7kctU-jel8k-"
   },
   "source": [
    "Po wytrenowaniu części klasyfikacyjnej można ponownie odmrozić wszystkie warstwy i przeprowadzić dotrenowanie pełnej sieci na nowych danych, bez ryzyka związanego z dużymi gradientami w pierwszych fazach uczenia."
   ]
  },
  {
   "cell_type": "code",
   "execution_count": null,
   "metadata": {
    "colab": {
     "base_uri": "https://localhost:8080/"
    },
    "id": "yu4ks06pR1aO",
    "outputId": "a37535ab-3964-4dd1-95c5-891d25d85de3"
   },
   "outputs": [],
   "source": [
    "for ix in range(0, 9+1):\n",
    "  new_model.get_layer(index=ix).trainable=True\n",
    "\n",
    "new_model.compile(loss='categorical_crossentropy', optimizer=tf.keras.optimizers.legacy.Adam(), metrics=['accuracy'])\n",
    "new_model.summary()"
   ]
  },
  {
   "cell_type": "code",
   "execution_count": null,
   "metadata": {
    "colab": {
     "base_uri": "https://localhost:8080/"
    },
    "id": "g9x5tXRzS9yE",
    "outputId": "48a4bd8e-bfae-4a96-931d-c7ac84b4000d"
   },
   "outputs": [],
   "source": [
    "new_model.fit_generator(train_generator, steps_per_epoch=24000//128, epochs=2, verbose=1, validation_data=valid_generator, validation_steps = 6000 // 128)"
   ]
  },
  {
   "cell_type": "code",
   "execution_count": null,
   "metadata": {
    "colab": {
     "base_uri": "https://localhost:8080/",
     "height": 1000
    },
    "id": "pbfKwpJ9TI-e",
    "outputId": "27617a2a-1b2d-4c29-b041-c0369bd2a112"
   },
   "outputs": [],
   "source": [
    "test_model(new_model, X_test, Y_test, y_test, new_digits)"
   ]
  },
  {
   "cell_type": "markdown",
   "metadata": {
    "id": "e6ssF6eHeHro"
   },
   "source": [
    "# Test on different dataset"
   ]
  },
  {
   "cell_type": "code",
   "execution_count": null,
   "metadata": {
    "colab": {
     "base_uri": "https://localhost:8080/"
    },
    "id": "s00LerSteLv5",
    "outputId": "8d26e551-10a6-43f8-cd66-32e4d94249c6"
   },
   "outputs": [],
   "source": [
    "!wget https://raw.githubusercontent.com/googlecreativelab/quickdraw-dataset/master/categories.txt"
   ]
  },
  {
   "cell_type": "code",
   "execution_count": null,
   "metadata": {
    "id": "H4d-lVtqgzgC"
   },
   "outputs": [],
   "source": [
    "import os\n",
    "import urllib\n",
    "\n",
    "def download_and_load(class_names, test_split = 0.2, max_items_per_class = 10000):\n",
    "  root = 'data'\n",
    "  if not os.path.exists(root):\n",
    "    os.makedirs(root)\n",
    "\n",
    "  print('downloading ...')\n",
    "  base = 'https://storage.googleapis.com/quickdraw_dataset/full/numpy_bitmap/'\n",
    "  for c in class_names:\n",
    "    cc = c.replace('_', '%20')\n",
    "    path = base+cc+'.npy'\n",
    "    print(path)\n",
    "    if not os.path.exists(f'{root}/{cc}.npy'):\n",
    "      urllib.request.urlretrieve(path, f'{root}/{cc}.npy')\n",
    "    else:\n",
    "      print(\"Already downloaded\")\n",
    "  print('loading ...')\n",
    "\n",
    "  #initialize variables\n",
    "  x = np.empty([0, 784])\n",
    "  y = np.empty([0])\n",
    "\n",
    "  #load each data file\n",
    "  for idx, file in enumerate(class_names):\n",
    "      file = file.replace('_', '%20')\n",
    "      data = np.load(f'{root}/{file}.npy')\n",
    "      data = data[0: max_items_per_class, :]\n",
    "      labels = np.full(data.shape[0], idx)\n",
    "\n",
    "      x = np.concatenate((x, data), axis=0)\n",
    "      y = np.append(y, labels)\n",
    "\n",
    "  data = None\n",
    "  labels = None\n",
    "\n",
    "  #randomize the dataset\n",
    "  permutation = np.random.permutation(y.shape[0])\n",
    "  x = x[permutation, :]\n",
    "  y = y[permutation]\n",
    "\n",
    "  #reshape and inverse the colors\n",
    "  x = 255 - np.reshape(x, (x.shape[0], 28, 28))\n",
    "\n",
    "  #separate into training and testing\n",
    "  test_size  = int(x.shape[0]/100*(test_split*100))\n",
    "\n",
    "  x_test = x[0:test_size, :]\n",
    "  y_test = y[0:test_size]\n",
    "\n",
    "  x_train = x[test_size:x.shape[0], :]\n",
    "  y_train = y[test_size:y.shape[0]]\n",
    "\n",
    "  print('Training Data : ', x_train.shape[0])\n",
    "  print('Testing  Data : ', x_test.shape[0])\n",
    "  return x_train, y_train, x_test, y_test"
   ]
  },
  {
   "cell_type": "code",
   "execution_count": null,
   "metadata": {
    "id": "kAiJYOJBgXup"
   },
   "outputs": [],
   "source": [
    "# set your random seed value, put any number here\n",
    "RANDOM_SEED = 1234"
   ]
  },
  {
   "cell_type": "code",
   "execution_count": null,
   "metadata": {
    "colab": {
     "base_uri": "https://localhost:8080/",
     "height": 1000
    },
    "id": "CsfWTt6NeUEJ",
    "outputId": "7330a224-fb28-4df3-adf0-6ae4ef6aa9dd"
   },
   "outputs": [],
   "source": [
    "import random\n",
    "\n",
    "with open('categories.txt') as f:\n",
    "    all_class_names = f.readlines()\n",
    "\n",
    "\n",
    "random.seed(RANDOM_SEED)\n",
    "\n",
    "all_class_names = [x.strip().replace(' ', '_') for x in all_class_names]\n",
    "\n",
    "nb_classes = 10\n",
    "\n",
    "# select random 10 classes\n",
    "class_names = random.sample(all_class_names, nb_classes)\n",
    "\n",
    "# you can also try those \"hard\" classes instead\n",
    "#class_names = ['wheel', 'pizza', 'smiley_face', 'apple', 'potato', 'basketball', 'soccer_ball', 'brain', 'clock', 'circle']\n",
    "\n",
    "print(class_names)\n",
    "\n",
    "X_train, y_train, X_test, y_test = download_and_load(class_names)\n",
    "\n",
    "X_train = X_train.reshape(X_train.shape[0], 28, 28, 1) #add an additional dimension to represent the single-channel\n",
    "X_test = X_test.reshape(X_test.shape[0], 28, 28, 1)\n",
    "\n",
    "X_train = X_train.astype('float32')         # change integers to 32-bit floating point numbers\n",
    "X_test = X_test.astype('float32')\n",
    "\n",
    "X_train /= 255                              # normalize each value for each pixel for the entire vector for each input\n",
    "X_test /= 255\n",
    "\n",
    "Y_train = to_categorical(y_train, nb_classes)\n",
    "Y_test = to_categorical(y_test, nb_classes)\n",
    "\n",
    "visualize_classes(X_train, y_train)"
   ]
  },
  {
   "cell_type": "markdown",
   "metadata": {
    "id": "W5Jm2OPyk4FF"
   },
   "source": [
    "## Create the model"
   ]
  },
  {
   "cell_type": "code",
   "execution_count": null,
   "metadata": {
    "id": "1k0Qnajnk3ey"
   },
   "outputs": [],
   "source": [
    "model = Sequential()                                 # Linear stacking of layers\n",
    "\n",
    "# Convolution Layer 1\n",
    "model.add(Conv2D(64, (5, 5), input_shape=(28,28,1))) # 16 different 5x5 kernels -- so 16 feature maps\n",
    "model.add(BatchNormalization())                      # weights normalization\n",
    "model.add(Activation('relu') )                       # activation\n",
    "model.add(MaxPooling2D(pool_size=(2,2)))             # Pool the max values over a 2x2 kernel\n",
    "\n",
    "\n",
    "# Convolution Layer 2\n",
    "model.add(Conv2D(32, (5, 5)))                        # 32 different 5x5 kernels -- so 32 feature maps\n",
    "model.add(BatchNormalization())                      # weights normalization\n",
    "model.add(Activation('relu'))                        # activation\n",
    "model.add(MaxPooling2D(pool_size=(2,2)))             # Pool the max values over a 2x2 kernel\n",
    "\n",
    "model.add(Flatten())                                 # Flatten final output matrix into a vector\n",
    "\n",
    "# Fully Connected Layer\n",
    "model.add(Dense(128))                                # 128 FC nodes\n",
    "model.add(Activation('relu'))                        # activation\n",
    "\n",
    "# Fully Connected Layer\n",
    "model.add(Dense(10))                                 # final 10 FC nodes\n",
    "model.add(Activation('softmax'))                     # softmax activation\n",
    "\n",
    "\n",
    "# we'll use the same optimizer\n",
    "adam = tf.optimizers.Adam(learning_rate=0.001)\n",
    "model.compile(loss='categorical_crossentropy', optimizer=adam, metrics=['accuracy'])"
   ]
  },
  {
   "cell_type": "code",
   "execution_count": null,
   "metadata": {
    "id": "HmR_tm0gmR0u"
   },
   "outputs": [],
   "source": [
    "# data augmentation prevents overfitting by slightly changing the data randomly\n",
    "# Keras has a great built-in feature to do automatic augmentation\n",
    "\n",
    "gen = ImageDataGenerator(rotation_range=8, width_shift_range=0.08, shear_range=0.3,\n",
    "                         height_shift_range=0.08, zoom_range=0.08, validation_split=0.2)\n",
    "\n",
    "test_gen = ImageDataGenerator()\n",
    "\n",
    "train_generator = gen.flow(X_train, Y_train, batch_size=128, subset='training')\n",
    "valid_generator = gen.flow(X_train, Y_train, batch_size=128, subset='validation')\n",
    "test_generator = test_gen.flow(X_test, Y_test, batch_size=128)"
   ]
  },
  {
   "cell_type": "code",
   "execution_count": null,
   "metadata": {
    "colab": {
     "base_uri": "https://localhost:8080/",
     "height": 338
    },
    "id": "p-jeOuI8nfl9",
    "outputId": "868981c3-74be-4120-b11b-11f45abf6293"
   },
   "outputs": [],
   "source": [
    "model.fit(train_generator, steps_per_epoch=64000//128, epochs=5, verbose=1, validation_data=valid_generator, validation_steps = 16000 // 128)"
   ]
  },
  {
   "cell_type": "code",
   "execution_count": null,
   "metadata": {
    "id": "OlzMJklYooX8"
   },
   "outputs": [],
   "source": [
    "score = model.evaluate(X_test, Y_test)\n",
    "print('Test score:', score[0])\n",
    "print('Test accuracy:', score[1])"
   ]
  },
  {
   "cell_type": "code",
   "execution_count": null,
   "metadata": {
    "id": "sAhuIjARoqhp"
   },
   "outputs": [],
   "source": [
    "# The predict_classes function outputs the highest probability class\n",
    "# according to the trained classifier for each input example.\n",
    "predicted = model.predict(X_test)\n",
    "predicted_classes = np.argmax(predicted, axis=1)\n",
    "\n",
    "# Check which items we got right / wrong\n",
    "correct_indices = np.nonzero(predicted_classes == y_test)[0]\n",
    "\n",
    "incorrect_indices = np.nonzero(predicted_classes != y_test)[0]\n",
    "\n",
    "cnf_matrix = confusion_matrix(y_test, predicted_classes)\n",
    "\n",
    "# Plot non-normalized confusion matrix\n",
    "plt.figure()\n",
    "plot_confusion_matrix(cnf_matrix, classes=class_names,\n",
    "                      title='Confusion matrix, without normalization')\n",
    "\n",
    "plt.show()"
   ]
  },
  {
   "cell_type": "code",
   "execution_count": null,
   "metadata": {
    "id": "BKDRjvPFow6L"
   },
   "outputs": [],
   "source": [
    "show_samples(correct_indices, predicted, X_test, y_test, 5, class_names)"
   ]
  },
  {
   "cell_type": "code",
   "execution_count": null,
   "metadata": {
    "id": "lgtxWrarps6b"
   },
   "outputs": [],
   "source": [
    "show_samples(incorrect_indices, predicted, X_test, y_test, 5, class_names)"
   ]
  },
  {
   "cell_type": "markdown",
   "metadata": {
    "id": "r29_OvwJtyM7"
   },
   "source": [
    "# CIFAR-10"
   ]
  },
  {
   "cell_type": "markdown",
   "metadata": {
    "id": "nuo0JHXDzxT7"
   },
   "source": [
    "## Ładowanie zbioru danych"
   ]
  },
  {
   "cell_type": "code",
   "execution_count": null,
   "metadata": {
    "colab": {
     "base_uri": "https://localhost:8080/"
    },
    "id": "pPrx-UWet0Ng",
    "outputId": "15d71d6b-ff5e-4538-87e6-9ca8bdf1e8a1"
   },
   "outputs": [],
   "source": [
    "from tensorflow import keras\n",
    "from keras.datasets import cifar10\n",
    "\n",
    "(X_train, y_train), (X_test, y_test) = cifar10.load_data()\n",
    "\n",
    "X_train = X_train.astype('float32')         # change integers to 32-bit floating point numbers\n",
    "X_test = X_test.astype('float32')\n",
    "\n",
    "X_train /= 255                              # normalize each value for each pixel for the entire vector for each input\n",
    "X_test /= 255\n",
    "\n",
    "y_train = y_train.reshape((1,-1))[0]\n",
    "y_test = y_test.reshape((1,-1))[0]\n",
    "\n",
    "print(\"Training matrix shape\", X_train.shape, y_train.shape)\n",
    "print(\"Testing matrix shape\", X_test.shape, y_test.shape)\n",
    "\n",
    "# one-hot format classes\n",
    "\n",
    "nb_classes = 10\n",
    "\n",
    "Y_train = to_categorical(y_train, nb_classes)\n",
    "Y_test = to_categorical(y_test, nb_classes)\n",
    "\n",
    "cifar_names = ['airplane', 'automobile', 'bird', 'cat', 'deer', 'dog', 'frog', 'horse', 'ship', 'truck']"
   ]
  },
  {
   "cell_type": "markdown",
   "metadata": {
    "id": "Q2LGp6AVzzqC"
   },
   "source": [
    "## Podgląd zbioru treningowego"
   ]
  },
  {
   "cell_type": "code",
   "execution_count": null,
   "metadata": {
    "colab": {
     "base_uri": "https://localhost:8080/",
     "height": 828
    },
    "id": "o6OJ7XPdxe1i",
    "outputId": "ce27c176-70c1-48f6-b176-dd2ab2fca32e"
   },
   "outputs": [],
   "source": [
    "for i in range(0, 10):\n",
    "  img_batch = X_train[y_train == i][0:10]\n",
    "  img_batch = np.reshape(img_batch, (img_batch.shape[0]*img_batch.shape[1], img_batch.shape[2], img_batch.shape[3]))\n",
    "  if i > 0:\n",
    "    img = np.concatenate([img, img_batch], axis = 1)\n",
    "  else:\n",
    "    img = img_batch\n",
    "plt.figure(figsize=(10,20))\n",
    "plt.axis('off')\n",
    "plt.imshow(img, cmap='gray')\n"
   ]
  },
  {
   "cell_type": "markdown",
   "metadata": {
    "id": "6EF56o2gz3Mz"
   },
   "source": [
    "## Przygotowanie modelu"
   ]
  },
  {
   "cell_type": "code",
   "execution_count": null,
   "metadata": {
    "colab": {
     "background_save": true
    },
    "id": "6UvabhsguqWc"
   },
   "outputs": [],
   "source": [
    "def generate_model():\n",
    "  model = Sequential()                                 # Linear stacking of layers\n",
    "\n",
    "  # Convolution Layer 1\n",
    "  model.add(Conv2D(16, (3, 3), input_shape=(32,32,3)))\n",
    "  model.add(Activation('relu') )\n",
    "\n",
    "  # ...\n",
    "\n",
    "  model.add(Flatten())                                 # Flatten final output matrix into a vector\n",
    "\n",
    "  # ...\n",
    "\n",
    "  # Fully Connected Layer\n",
    "  model.add(Dense(10))                                 # final 10 FC nodes\n",
    "  model.add(Activation('softmax'))                     # softmax activation\n",
    "\n",
    "  model.summary()\n",
    "\n",
    "  adam = tf.optimizers.Adam(learning_rate=0.001)\n",
    "  model.compile(loss='categorical_crossentropy', optimizer=adam, metrics=['accuracy'])\n",
    "\n",
    "  return model\n",
    "\n",
    "def generate_model_default():\n",
    "  model = Sequential()                                 # Linear stacking of layers\n",
    "\n",
    "  # Convolution Layer 1\n",
    "  model.add(Conv2D(16, (3, 3), input_shape=(32,32,3)))\n",
    "  model.add(Activation('relu') )\n",
    "\n",
    "  # ...\n",
    "\n",
    "  model.add(Flatten())                                 # Flatten final output matrix into a vector\n",
    "\n",
    "  # ...\n",
    "\n",
    "  # Fully Connected Layer\n",
    "  model.add(Dense(10))                                 # final 10 FC nodes\n",
    "  model.add(Activation('softmax'))                     # softmax activation\n",
    "\n",
    "  model.summary()\n",
    "\n",
    "  adam = tf.optimizers.Adam(learning_rate=0.001)\n",
    "  model.compile(loss='categorical_crossentropy', optimizer=adam, metrics=['accuracy'])\n",
    "\n",
    "  return model\n",
    "\n",
    "def generate_model_gemini():\n",
    "    model = Sequential()\n",
    "\n",
    "    # Convolutional Layers with Max Pooling\n",
    "    model.add(Conv2D(32, (3, 3), activation='relu', input_shape=(32, 32, 3)))\n",
    "    model.add(MaxPooling2D(pool_size=(2, 2)))\n",
    "    model.add(Conv2D(64, (3, 3), activation='relu'))\n",
    "    model.add(MaxPooling2D(pool_size=(2, 2)))\n",
    "    model.add(Dropout(0.25))  # Regularization\n",
    "\n",
    "    # Flatten and Fully Connected Layers\n",
    "    model.add(Flatten())\n",
    "    model.add(Dense(128, activation='relu'))\n",
    "    model.add(Dropout(0.5))   # Regularization\n",
    "    model.add(Dense(10, activation='softmax'))\n",
    "\n",
    "    # Model Compilation\n",
    "    model.compile(loss='categorical_crossentropy',\n",
    "                  optimizer='adam',  # Consider trying other optimizers\n",
    "                  metrics=['accuracy'])\n",
    "\n",
    "    return model\n",
    "\n",
    "def generate_model_chat():\n",
    "    model = Sequential()                                 # Linear stacking of layers\n",
    "\n",
    "    # Convolution Layer 1\n",
    "    model.add(Conv2D(32, (3, 3), padding='same', input_shape=(32, 32, 3)))\n",
    "    model.add(Activation('relu'))\n",
    "    model.add(BatchNormalization())\n",
    "\n",
    "    # Convolution Layer 2\n",
    "    model.add(Conv2D(32, (3, 3)))\n",
    "    model.add(Activation('relu'))\n",
    "    model.add(MaxPooling2D(pool_size=(2, 2)))\n",
    "    model.add(Dropout(0.6))\n",
    "\n",
    "    # Convolution Layer 3\n",
    "    model.add(Conv2D(64, (3, 3), padding='same'))\n",
    "    model.add(Activation('relu'))\n",
    "    model.add(BatchNormalization())\n",
    "\n",
    "    # Convolution Layer 4\n",
    "    model.add(Conv2D(64, (3, 3)))\n",
    "    model.add(Activation('relu'))\n",
    "    model.add(MaxPooling2D(pool_size=(2, 2)))\n",
    "    model.add(Dropout(0.6))\n",
    "\n",
    "    # Flattening the convolutions\n",
    "    model.add(Flatten())\n",
    "\n",
    "    # Fully Connected Layer\n",
    "    model.add(Dense(512))                                 # Large fully connected layer\n",
    "    model.add(Activation('relu'))\n",
    "    model.add(BatchNormalization())\n",
    "    model.add(Dropout(0.6))\n",
    "\n",
    "    # Output Layer\n",
    "    model.add(Dense(10))                                  # final 10 FC nodes\n",
    "    model.add(Activation('softmax'))                      # softmax activation\n",
    "\n",
    "    model.summary()\n",
    "\n",
    "    # Compile the model\n",
    "    adam = tf.optimizers.Adam(learning_rate=0.001)\n",
    "    model.compile(loss='categorical_crossentropy', optimizer=adam, metrics=['accuracy'])\n",
    "\n",
    "    return model"
   ]
  },
  {
   "cell_type": "code",
   "execution_count": null,
   "metadata": {
    "colab": {
     "background_save": true
    },
    "id": "PSQkAq9IvJsS",
    "outputId": "c3330c24-bf8b-439f-c087-b9395b346060"
   },
   "outputs": [],
   "source": [
    "model = generate_model()\n",
    "model_default = generate_model_default()\n",
    "model_gemini = generate_model_gemini()\n",
    "model_chat = generate_model_chat()\n",
    "models = [model_chat]"
   ]
  },
  {
   "cell_type": "markdown",
   "metadata": {
    "id": "YMtJVU_oz55g"
   },
   "source": [
    "## Trening"
   ]
  },
  {
   "cell_type": "code",
   "execution_count": null,
   "metadata": {
    "colab": {
     "background_save": true
    },
    "id": "sjZaiBLJvQkP"
   },
   "outputs": [],
   "source": [
    "gen = ImageDataGenerator(rotation_range=8, width_shift_range=0.08, shear_range=0.3,\n",
    "                         height_shift_range=0.08, zoom_range=0.08, validation_split=0.2)\n",
    "\n",
    "train_generator = gen.flow(X_train, Y_train, batch_size=128, subset='training')\n",
    "valid_generator = gen.flow(X_train, Y_train, batch_size=128, subset='validation')"
   ]
  },
  {
   "cell_type": "code",
   "execution_count": null,
   "metadata": {
    "colab": {
     "background_save": true
    },
    "id": "MlMHmbOsvbWP",
    "outputId": "70259da6-b0d3-4bda-9dcb-85dce8aa6ec0"
   },
   "outputs": [],
   "source": [
    "# Max 20 epoch\n",
    "for model in models:\n",
    "  model.fit(train_generator, steps_per_epoch=40000//128, epochs=20, verbose=1, validation_data=valid_generator, validation_steps = 10000 // 128)"
   ]
  },
  {
   "cell_type": "markdown",
   "metadata": {
    "id": "mN5zKMDNz8Jp"
   },
   "source": [
    "## Test"
   ]
  },
  {
   "cell_type": "code",
   "execution_count": null,
   "metadata": {
    "colab": {
     "background_save": true
    },
    "id": "lLZORONWvqex",
    "outputId": "c75bf7d8-1be8-4ddf-fe24-a2f6f3637dca"
   },
   "outputs": [],
   "source": [
    "for model in models:\n",
    "  score = model.evaluate(X_test, Y_test)\n",
    "  print('Test score:', score[0])\n",
    "  print('Test accuracy:', score[1])\n",
    "\n",
    "  # The predict_classes function outputs the highest probability class\n",
    "  # according to the trained classifier for each input example.\n",
    "  predicted = model.predict(X_test)\n",
    "  predicted_classes = np.argmax(predicted, axis=1)\n",
    "\n",
    "  # Check which items we got right / wrong\n",
    "  correct_indices = np.nonzero(predicted_classes == y_test)[0]\n",
    "\n",
    "  incorrect_indices = np.nonzero(predicted_classes != y_test)[0]\n",
    "\n",
    "\n",
    "  cnf_matrix = confusion_matrix(y_test, predicted_classes)\n",
    "\n",
    "  class_names = [str(i) for i in range(10)]\n",
    "\n",
    "  # Plot non-normalized confusion matrix\n",
    "  plt.figure()\n",
    "  plot_confusion_matrix(cnf_matrix, classes=class_names,\n",
    "                        title='Confusion matrix, without normalization')\n",
    "\n",
    "  plt.show()"
   ]
  },
  {
   "cell_type": "code",
   "execution_count": null,
   "metadata": {
    "colab": {
     "background_save": true
    },
    "id": "ktfHkYc1zHsY"
   },
   "outputs": [],
   "source": [
    "def show_samples_rgb(indices, preds, images, labels, count=3, names = []):\n",
    "    plt.figure()\n",
    "    for i, sample in enumerate(indices[:count**2]):\n",
    "        pred_id = int(np.argmax(preds[sample]))\n",
    "        real_id = int(labels[sample])\n",
    "        pred_score = preds[sample][pred_id]\n",
    "        real_score = preds[sample][real_id]\n",
    "        plt.subplot(count,count,i+1)\n",
    "        plt.imshow(images[sample], interpolation='none')\n",
    "        plt.axis('off')\n",
    "        if len(names) > 0:\n",
    "          plt.title(\"P: {} ({:.2f})\\nE: {} ({:.2f})\".format(names[pred_id], pred_score, names[real_id], real_score))\n",
    "        else:\n",
    "          plt.title(\"P: {} ({:.2f})\\nE: {} ({:.2f})\".format(pred_id, pred_score, real_id, real_score))\n",
    "\n",
    "    plt.tight_layout()"
   ]
  },
  {
   "cell_type": "markdown",
   "metadata": {
    "id": "F8hS785GzoGJ"
   },
   "source": [
    "## Poprawne klasyfikacje"
   ]
  },
  {
   "cell_type": "code",
   "execution_count": null,
   "metadata": {
    "colab": {
     "background_save": true
    },
    "id": "IUcJVbOlzm5z",
    "outputId": "af278820-bf9a-4aa9-89af-e26b367b9f6f"
   },
   "outputs": [],
   "source": [
    "show_samples_rgb(correct_indices, predicted, X_test, y_test, 5, cifar_names)"
   ]
  },
  {
   "cell_type": "markdown",
   "metadata": {
    "id": "PiyibL4yzpup"
   },
   "source": [
    "## Błędne klasyfikacje"
   ]
  },
  {
   "cell_type": "code",
   "execution_count": null,
   "metadata": {
    "colab": {
     "background_save": true
    },
    "id": "ECh_2RW6zgKB",
    "outputId": "2a10e208-edfe-41a9-f89e-c401515d5932"
   },
   "outputs": [],
   "source": [
    "show_samples_rgb(incorrect_indices, predicted, X_test, y_test, 5, cifar_names)"
   ]
  }
 ],
 "metadata": {
  "accelerator": "GPU",
  "colab": {
   "collapsed_sections": [
    "F8hS785GzoGJ",
    "PiyibL4yzpup"
   ],
   "gpuType": "T4",
   "provenance": []
  },
  "kernelspec": {
   "display_name": "Python 3 (ipykernel)",
   "language": "python",
   "name": "python3"
  },
  "language_info": {
   "codemirror_mode": {
    "name": "ipython",
    "version": 3
   },
   "file_extension": ".py",
   "mimetype": "text/x-python",
   "name": "python",
   "nbconvert_exporter": "python",
   "pygments_lexer": "ipython3",
   "version": "3.11.8"
  }
 },
 "nbformat": 4,
 "nbformat_minor": 4
}
